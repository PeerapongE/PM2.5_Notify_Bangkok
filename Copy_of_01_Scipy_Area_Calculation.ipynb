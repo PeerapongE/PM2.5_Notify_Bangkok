{
  "nbformat": 4,
  "nbformat_minor": 0,
  "metadata": {
    "colab": {
      "name": "Copy of 01_Scipy_Area_Calculation.ipynb",
      "version": "0.3.2",
      "provenance": [],
      "include_colab_link": true
    },
    "kernelspec": {
      "display_name": "Python 3",
      "language": "python",
      "name": "python3"
    }
  },
  "cells": [
    {
      "cell_type": "markdown",
      "metadata": {
        "id": "view-in-github",
        "colab_type": "text"
      },
      "source": [
        "<a href=\"https://colab.research.google.com/github/PeerapongE/PM2.5_Notify_Bangkok/blob/master/Copy_of_01_Scipy_Area_Calculation.ipynb\" target=\"_parent\"><img src=\"https://colab.research.google.com/assets/colab-badge.svg\" alt=\"Open In Colab\"/></a>"
      ]
    },
    {
      "metadata": {
        "id": "KUUcFP_650Is",
        "colab_type": "text"
      },
      "cell_type": "markdown",
      "source": [
        "<img src = \"https://raw.githubusercontent.com/PeerapongE/Scipy_Summary/master/Pic_data/DEXTRACT_logo.jpg\" width = 500 height=\"240\" align = 'center'>"
      ]
    },
    {
      "metadata": {
        "id": "0i1g1GR75vaO",
        "colab_type": "text"
      },
      "cell_type": "markdown",
      "source": [
        ""
      ]
    },
    {
      "metadata": {
        "id": "YlZ4aNic2nqa",
        "colab_type": "text"
      },
      "cell_type": "markdown",
      "source": [
        "![alt text](https://raw.githubusercontent.com/PeerapongE/Scipy_Summary/master/Pic_data/DEXTRACT_logo.jpg)\n"
      ]
    },
    {
      "metadata": {
        "id": "nIdnOjS41e0C",
        "colab_type": "text"
      },
      "cell_type": "markdown",
      "source": [
        "### Reference\n",
        "https://www.scipy-lectures.org/intro/"
      ]
    },
    {
      "metadata": {
        "id": "psNRsYeo1e0E",
        "colab_type": "code",
        "colab": {}
      },
      "cell_type": "code",
      "source": [
        "import numpy as np\n",
        "import scipy.integrate"
      ],
      "execution_count": 0,
      "outputs": []
    },
    {
      "metadata": {
        "id": "5sNsd3_21e0I",
        "colab_type": "text"
      },
      "cell_type": "markdown",
      "source": [
        "#### Exercise: Perform integration of y = x**2\n",
        "\n",
        "<img src = \"Pic_data/Integration_1.png\" width = 500>"
      ]
    },
    {
      "metadata": {
        "id": "FKjU1pzD1e0J",
        "colab_type": "code",
        "colab": {}
      },
      "cell_type": "code",
      "source": [
        ""
      ],
      "execution_count": 0,
      "outputs": []
    },
    {
      "metadata": {
        "id": "4Si3x_7H1e0N",
        "colab_type": "text"
      },
      "cell_type": "markdown",
      "source": [
        "## Solution\n",
        "<img src = \"Pic_data/Integration_2.png\" width = 200>"
      ]
    },
    {
      "metadata": {
        "id": "IGbXjPDt1e0O",
        "colab_type": "text"
      },
      "cell_type": "markdown",
      "source": [
        "#### In this Exercise we will perform Integration using approximation method (assume we dont know the real equation)"
      ]
    },
    {
      "metadata": {
        "id": "tUSbwNXS1e0O",
        "colab_type": "code",
        "outputId": "b6afc1db-7f93-4d1b-c61f-d2d501c538df",
        "colab": {
          "base_uri": "https://localhost:8080/",
          "height": 34
        }
      },
      "cell_type": "code",
      "source": [
        "# สร้างค่า x ออกมาก่อน\n",
        "x, dx = np.linspace(1, 10, 10, retstep=True)\n",
        "x"
      ],
      "execution_count": 0,
      "outputs": [
        {
          "output_type": "execute_result",
          "data": {
            "text/plain": [
              "array([ 1.,  2.,  3.,  4.,  5.,  6.,  7.,  8.,  9., 10.])"
            ]
          },
          "metadata": {
            "tags": []
          },
          "execution_count": 3
        }
      ]
    },
    {
      "metadata": {
        "id": "BTA-fgTJ1e0W",
        "colab_type": "code",
        "outputId": "0a1e938a-820a-4a13-96c8-058590a319cf",
        "colab": {
          "base_uri": "https://localhost:8080/",
          "height": 34
        }
      },
      "cell_type": "code",
      "source": [
        "dx"
      ],
      "execution_count": 0,
      "outputs": [
        {
          "output_type": "execute_result",
          "data": {
            "text/plain": [
              "1.0"
            ]
          },
          "metadata": {
            "tags": []
          },
          "execution_count": 4
        }
      ]
    },
    {
      "metadata": {
        "id": "ThNqNoLm1e0b",
        "colab_type": "code",
        "outputId": "2352fb47-df50-4c04-9639-37400a5890b4",
        "colab": {
          "base_uri": "https://localhost:8080/",
          "height": 34
        }
      },
      "cell_type": "code",
      "source": [
        "# y = e^x\n",
        "y = x ** 2\n",
        "y"
      ],
      "execution_count": 0,
      "outputs": [
        {
          "output_type": "execute_result",
          "data": {
            "text/plain": [
              "array([  1.,   4.,   9.,  16.,  25.,  36.,  49.,  64.,  81., 100.])"
            ]
          },
          "metadata": {
            "tags": []
          },
          "execution_count": 5
        }
      ]
    },
    {
      "metadata": {
        "id": "Ejiqo5Lq1e0j",
        "colab_type": "text"
      },
      "cell_type": "markdown",
      "source": [
        "##### Simplified calculation of Area under curve (using piecewise calculation) or Riemann sum"
      ]
    },
    {
      "metadata": {
        "id": "TbxY9gmG1e0k",
        "colab_type": "text"
      },
      "cell_type": "markdown",
      "source": [
        "การคำนวณพื้นที่แบบพื้นฐานที่สุดคือการเอาค่านั้นๆ เสมือนคำนวณ แยกกัน ตามกราฟแท่ง ยิ่งซอยย่อย ยิ่งแม่น\n",
        "\n",
        "<img src = \"pic_data/riemann_1.png\" width = 300>"
      ]
    },
    {
      "metadata": {
        "id": "KqgfbZTV1yrk",
        "colab_type": "text"
      },
      "cell_type": "markdown",
      "source": [
        "![alt text](https://i1.rgstatic.net/ii/profile.image/302060627529730-1449028273489_Q512/Rapheephan_Laochamroonvorapongse.jpg)"
      ]
    },
    {
      "metadata": {
        "id": "-UXOg_F-1e0n",
        "colab_type": "code",
        "outputId": "7ef09bf1-7895-401f-c171-6bf90cc73c47",
        "colab": {}
      },
      "cell_type": "code",
      "source": [
        "# เสมือนเอาแท่งๆ มาคูณกัน\n",
        "AOC_basic = np.sum(y)*dx\n",
        "AOC_basic"
      ],
      "execution_count": 0,
      "outputs": [
        {
          "output_type": "execute_result",
          "data": {
            "text/plain": [
              "385.0"
            ]
          },
          "metadata": {
            "tags": []
          },
          "execution_count": 66
        }
      ]
    },
    {
      "metadata": {
        "id": "Ej50u10b1e0v",
        "colab_type": "code",
        "outputId": "02cb3c90-0d9f-4fe2-8040-e6521485c011",
        "colab": {}
      },
      "cell_type": "code",
      "source": [
        "Error_basic = (AOC_basic - 333) / 333 * 100 # in percentage\n",
        "Error_basic"
      ],
      "execution_count": 0,
      "outputs": [
        {
          "output_type": "execute_result",
          "data": {
            "text/plain": [
              "15.615615615615615"
            ]
          },
          "metadata": {
            "tags": []
          },
          "execution_count": 78
        }
      ]
    },
    {
      "metadata": {
        "id": "hiG7amOU1e00",
        "colab_type": "text"
      },
      "cell_type": "markdown",
      "source": [
        "##### Integrate along the given axis using the composite trapezoidal rule."
      ]
    },
    {
      "metadata": {
        "id": "bM8PYxZw1e01",
        "colab_type": "text"
      },
      "cell_type": "markdown",
      "source": [
        "การคำนวณพื้นที่ระหว่างจุดของ trapezoid ใช้ Linear line ต่อระหว่างจุด\n",
        "\n",
        "<img src = \"pic_data/trapezoid_1.png\" width = 300>\n"
      ]
    },
    {
      "metadata": {
        "id": "javsxJZr1e02",
        "colab_type": "text"
      },
      "cell_type": "markdown",
      "source": [
        "สามารถ approximate พื้นที่ใต้กราฟได้ดีกว่าวิธี piecewise\n",
        "\n",
        "<img src = \"pic_data/trapezoid.png\" width = 300>\n",
        "\n"
      ]
    },
    {
      "metadata": {
        "id": "T1-OySwo1e04",
        "colab_type": "code",
        "outputId": "0d795d89-a375-4d60-aaa0-05cc9a025159",
        "colab": {}
      },
      "cell_type": "code",
      "source": [
        "# What is Trapezoidal rule --> https://en.wikipedia.org/wiki/Trapezoidal_rule\n",
        "# Reference for scipy --> https://docs.scipy.org/doc/scipy/reference/generated/scipy.integrate.trapz.html\n",
        "\n",
        "AOC_trapz = scipy.integrate.trapz(y, x)\n",
        "AOC_trapz"
      ],
      "execution_count": 0,
      "outputs": [
        {
          "output_type": "execute_result",
          "data": {
            "text/plain": [
              "334.5"
            ]
          },
          "metadata": {
            "tags": []
          },
          "execution_count": 75
        }
      ]
    },
    {
      "metadata": {
        "id": "CdTI4Ljw1e0_",
        "colab_type": "code",
        "outputId": "e7b8cb4c-c985-424d-a298-42a9bc3da76f",
        "colab": {}
      },
      "cell_type": "code",
      "source": [
        "Error_trapz = (AOC_trapz - 333) / 333 * 100 # in percentage\n",
        "Error_trapz"
      ],
      "execution_count": 0,
      "outputs": [
        {
          "output_type": "execute_result",
          "data": {
            "text/plain": [
              "0.45045045045045046"
            ]
          },
          "metadata": {
            "tags": []
          },
          "execution_count": 77
        }
      ]
    },
    {
      "metadata": {
        "id": "VUYHTX_31e1L",
        "colab_type": "code",
        "outputId": "25038784-2a60-4746-a20a-f828ba417db5",
        "colab": {}
      },
      "cell_type": "code",
      "source": [
        "# Using Cumulative integration (ของแถมที่ scipy ทำไว้ให้)\n",
        "# https://docs.scipy.org/doc/scipy/reference/generated/scipy.integrate.cumtrapz.html#scipy.integrate.cumtrapz\n",
        "AOC_trap_cum = scipy.integrate.cumtrapz(y, x, initial = 0)\n",
        "AOC_trap_cum"
      ],
      "execution_count": 0,
      "outputs": [
        {
          "output_type": "execute_result",
          "data": {
            "text/plain": [
              "array([  0. ,   2.5,   9. ,  21.5,  42. ,  72.5, 115. , 171.5, 244. ,\n",
              "       334.5])"
            ]
          },
          "metadata": {
            "tags": []
          },
          "execution_count": 69
        }
      ]
    },
    {
      "metadata": {
        "id": "m4LYwrac1e1P",
        "colab_type": "text"
      },
      "cell_type": "markdown",
      "source": [
        "##### Integrate y(x) using samples along the given axis and the composite Simpson’s rule"
      ]
    },
    {
      "metadata": {
        "id": "oz7EQBjv1e1Q",
        "colab_type": "text"
      },
      "cell_type": "markdown",
      "source": [
        "การคำนวณพื้นที่ระหว่างจุดของ Simpson ใช้ Quadratic Interpolation line ต่อระหว่างจุด\n",
        "\n",
        "<img src = \"pic_data/simpson_1.png\" width = 300>"
      ]
    },
    {
      "metadata": {
        "id": "5yiNLQTQ1e1S",
        "colab_type": "text"
      },
      "cell_type": "markdown",
      "source": [
        "สามารถ approximate พื้นที่ใต้กราฟได้ดีกว่าวิธี trapezoidal (ในกรณีส่วนมากถ้าการซอยย่อย ทำได้ดี ไม่งั้นอาจมี error ได้)\n",
        "\n",
        "<img src = \"pic_data/simpson_2.gif\" width = 300>"
      ]
    },
    {
      "metadata": {
        "id": "7STYbJVH1e1T",
        "colab_type": "code",
        "outputId": "16620a55-ce2f-4968-b143-8686c445dbf6",
        "colab": {}
      },
      "cell_type": "code",
      "source": [
        "# What is Simpson's rule --> https://en.wikipedia.org/wiki/Simpson%27s_rule\n",
        "# Reference for scipy --> https://docs.scipy.org/doc/scipy/reference/generated/scipy.integrate.simps.html\n",
        "AOC_simps = scipy.integrate.simps(y, x)\n",
        "AOC_simps"
      ],
      "execution_count": 0,
      "outputs": [
        {
          "output_type": "execute_result",
          "data": {
            "text/plain": [
              "333.16666666666663"
            ]
          },
          "metadata": {
            "tags": []
          },
          "execution_count": 80
        }
      ]
    },
    {
      "metadata": {
        "id": "-hLUIEac1e1X",
        "colab_type": "code",
        "outputId": "da7cceba-98e7-4fab-9625-c10ff5ad00a2",
        "colab": {}
      },
      "cell_type": "code",
      "source": [
        "Error_simps = (AOC_simps - 333) / 333 * 100 # in percentage\n",
        "Error_simps"
      ],
      "execution_count": 0,
      "outputs": [
        {
          "output_type": "execute_result",
          "data": {
            "text/plain": [
              "0.050050050050038666"
            ]
          },
          "metadata": {
            "tags": []
          },
          "execution_count": 81
        }
      ]
    }
  ]
}